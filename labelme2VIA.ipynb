{
 "cells": [
  {
   "cell_type": "code",
   "execution_count": 1,
   "metadata": {},
   "outputs": [],
   "source": [
    "import json\n",
    "import numpy as np\n",
    "import glob\n",
    "import os"
   ]
  },
  {
   "cell_type": "code",
   "execution_count": 11,
   "metadata": {},
   "outputs": [],
   "source": [
    "path = 'H:\\\\Dataset\\\\Ceymo\\\\test\\\\label_images_new\\\\'\n",
    "\n",
    "final_dict = {}\n",
    "for f in glob.glob(path + \"*.json\"):\n",
    "    filename = os.path.basename(f).split('.')[0]\n",
    "    #print(filename)\n",
    "    with open(f, \"rb\") as f:\n",
    "        data = json.load(f)\n",
    "        \n",
    "    new_list = []\n",
    "    for shape in data['shapes']:\n",
    "        label = shape['label']\n",
    "        #print(label)\n",
    "        all_points_x = []\n",
    "        all_points_y = []\n",
    "        for coord in shape['points']:\n",
    "            x = coord[0]   ##圖片裁切\n",
    "            y = coord[1]-760    #######################################\n",
    "            all_points_x.append(x)\n",
    "            all_points_y.append(y)\n",
    "        all_points_x.append(all_points_x[0])\n",
    "        all_points_y.append(all_points_y[0])\n",
    "\n",
    "        info1 = {'name':label}\n",
    "        info2 = {'name':'polyline','all_points_x':all_points_x, 'all_points_y':all_points_y}\n",
    "        \n",
    "        region = {'shape_attributes':info2, 'region_attributes': info1}\n",
    "        \n",
    "        new_list.append(region)\n",
    "    #print(new_list)\n",
    "    new = {filename+'.jpg':{'filename':filename+'.jpg','size':0, 'regions':new_list, 'file_attributes':{}}}\n",
    "    final_dict.update(new)\n",
    "#print(final_dict)"
   ]
  },
  {
   "cell_type": "code",
   "execution_count": 12,
   "metadata": {},
   "outputs": [],
   "source": [
    "img_path = 'H:\\\\Dataset\\\\Ceymo\\\\test\\\\crop_images_new'\n",
    "size_list = []\n",
    "for image in os.listdir(img_path):\n",
    "    size = os.path.getsize(os.path.join(img_path, image))\n",
    "    size_list.append(size)\n",
    "    #print(size)\n",
    "new_dict2={}\n",
    "for k, (keys, values) in enumerate(final_dict.items()): \n",
    "    new_keys = values['filename'] + str(size_list[k])\n",
    "    new_dict2[keys] = new_keys\n",
    "    \n",
    "    ## replace file memory size\n",
    "    values['size'] = size_list[k]\n",
    "    \n",
    "for old, new in new_dict2.items():\n",
    "    final_dict[new] = final_dict.pop(old)\n",
    "    \n",
    "#print(final_dict)"
   ]
  },
  {
   "cell_type": "code",
   "execution_count": 13,
   "metadata": {},
   "outputs": [],
   "source": [
    "file_name = 'labelme2via_label_images_new.json'\n",
    "with open(file_name,'w') as outfile:\n",
    "    json.dump(final_dict, outfile,ensure_ascii=False)"
   ]
  },
  {
   "cell_type": "code",
   "execution_count": null,
   "metadata": {},
   "outputs": [],
   "source": []
  }
 ],
 "metadata": {
  "kernelspec": {
   "display_name": "Python 3",
   "language": "python",
   "name": "python3"
  },
  "language_info": {
   "codemirror_mode": {
    "name": "ipython",
    "version": 3
   },
   "file_extension": ".py",
   "mimetype": "text/x-python",
   "name": "python",
   "nbconvert_exporter": "python",
   "pygments_lexer": "ipython3",
   "version": "3.8.3"
  }
 },
 "nbformat": 4,
 "nbformat_minor": 4
}
